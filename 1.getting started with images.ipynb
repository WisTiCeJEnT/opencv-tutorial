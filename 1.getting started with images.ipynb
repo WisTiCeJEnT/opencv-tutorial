{
 "cells": [
  {
   "cell_type": "code",
   "execution_count": 2,
   "metadata": {},
   "outputs": [],
   "source": [
    "# เริ่มจากการ import library\n",
    "import cv2\n",
    "import numpy as np"
   ]
  },
  {
   "cell_type": "code",
   "execution_count": 3,
   "metadata": {},
   "outputs": [],
   "source": [
    "# เก็บภาพ apple.jpg ไว้ในตัวแปรชื่อ apple ด้วยคำสั่ง cv2.imread()\n",
    "apple = cv2.imread('./images/apple.jpg')\n",
    "\n",
    "# แสดงภาพ โดยใช้คำสั่ง cv2.imshow()\n",
    "# parameter ตัวแรกเป็นชื่อหน้าต่าง parameter ตัวที่สองเป็นชื่อตัวแปร\n",
    "# แสดงภาพที่เก็บไว้ในตัวแปรชื่อ apple ในหน้าต่างชื่อ display\n",
    "cv2.imshow('display', apple)\n",
    "\n",
    "# รอจนกว่าจะมีการ input ค่าจากคีย์บอร์ด ด้วยคำสั่ง cv2.waitKey()\n",
    "# หน่วยเป็น milliseconds\n",
    "cv2.waitKey()\n",
    "\n",
    "# ทำลายหน้าต่างทั้งหมด\n",
    "# ถ้าไม่มีจะทำให้โปรแกรมค้าง\n",
    "cv2.destroyAllWindows()"
   ]
  },
  {
   "cell_type": "code",
   "execution_count": 1,
   "metadata": {},
   "outputs": [
    {
     "ename": "NameError",
     "evalue": "name 'cv2' is not defined",
     "output_type": "error",
     "traceback": [
      "\u001b[0;31m---------------------------------------------------------------------------\u001b[0m",
      "\u001b[0;31mNameError\u001b[0m                                 Traceback (most recent call last)",
      "\u001b[0;32m<ipython-input-1-45ded77041f8>\u001b[0m in \u001b[0;36m<module>\u001b[0;34m\u001b[0m\n\u001b[1;32m      1\u001b[0m \u001b[0;31m# การแปลงภาพ โดยใช้คำสั่ง cv2.cvtColor()\u001b[0m\u001b[0;34m\u001b[0m\u001b[0;34m\u001b[0m\u001b[0m\n\u001b[1;32m      2\u001b[0m \u001b[0;31m# แปลงภาพเป็น Grayscale\u001b[0m\u001b[0;34m\u001b[0m\u001b[0;34m\u001b[0m\u001b[0m\n\u001b[0;32m----> 3\u001b[0;31m \u001b[0mgray\u001b[0m \u001b[0;34m=\u001b[0m \u001b[0mcv2\u001b[0m\u001b[0;34m.\u001b[0m\u001b[0mcvtColor\u001b[0m\u001b[0;34m(\u001b[0m\u001b[0mapple\u001b[0m\u001b[0;34m,\u001b[0m \u001b[0mcv2\u001b[0m\u001b[0;34m.\u001b[0m\u001b[0mCOLOR_BGR2GRAY\u001b[0m\u001b[0;34m)\u001b[0m\u001b[0;34m\u001b[0m\u001b[0m\n\u001b[0m\u001b[1;32m      4\u001b[0m \u001b[0mcv2\u001b[0m\u001b[0;34m.\u001b[0m\u001b[0mimshow\u001b[0m\u001b[0;34m(\u001b[0m\u001b[0;34m'Grayscale'\u001b[0m\u001b[0;34m,\u001b[0m \u001b[0mgray\u001b[0m\u001b[0;34m)\u001b[0m\u001b[0;34m\u001b[0m\u001b[0m\n\u001b[1;32m      5\u001b[0m \u001b[0mcv2\u001b[0m\u001b[0;34m.\u001b[0m\u001b[0mwaitKey\u001b[0m\u001b[0;34m(\u001b[0m\u001b[0;34m)\u001b[0m\u001b[0;34m\u001b[0m\u001b[0m\n",
      "\u001b[0;31mNameError\u001b[0m: name 'cv2' is not defined"
     ]
    }
   ],
   "source": [
    "# การแปลงภาพ โดยใช้คำสั่ง cv2.cvtColor()\n",
    "# แปลงภาพเป็น Grayscale\n",
    "gray = cv2.cvtColor(apple, cv2.COLOR_BGR2GRAY)\n",
    "cv2.imshow('Grayscale', gray)\n",
    "cv2.waitKey()\n",
    "cv2.destroyAllWindows"
   ]
  },
  {
   "cell_type": "code",
   "execution_count": null,
   "metadata": {},
   "outputs": [],
   "source": []
  }
 ],
 "metadata": {
  "kernelspec": {
   "display_name": "Python 3",
   "language": "python",
   "name": "python3"
  },
  "language_info": {
   "codemirror_mode": {
    "name": "ipython",
    "version": 3
   },
   "file_extension": ".py",
   "mimetype": "text/x-python",
   "name": "python",
   "nbconvert_exporter": "python",
   "pygments_lexer": "ipython3",
   "version": "3.6.2"
  }
 },
 "nbformat": 4,
 "nbformat_minor": 2
}
